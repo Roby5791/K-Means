{
 "cells": [
  {
   "cell_type": "markdown",
   "metadata": {},
   "source": [
    "# K-means"
   ]
  },
  {
   "cell_type": "markdown",
   "metadata": {},
   "source": [
    "## Algo\n",
    "1. Define ```k``` and ```max_iter``` (maximum number of_iterations)\n",
    "2. Compute *k* random centroids\n",
    "3. Until max number of iterations not reached:\n",
    "    - Assign to each training sample its nearest centroid\n",
    "    - Udpate centroid coordinates"
   ]
  },
  {
   "cell_type": "code",
   "execution_count": 42,
   "metadata": {},
   "outputs": [],
   "source": [
    "import numpy as np\n",
    "from numpy.linalg import norm\n",
    "from sklearn.neighbors import KNeighborsClassifier\n",
    "from matplotlib.colors import ListedColormap\n",
    "from matplotlib.colors import BoundaryNorm\n",
    "\n",
    "class MyKmeans:\n",
    "    '''\n",
    "    desc: Implementation of Kmeans algorithm\n",
    "    1.Define k and max_iter (maximum number of_iterations)\n",
    "    2.Compute k random centroids\n",
    "    3.Until max number of iterations not reached:\n",
    "        - Assign to each training sample its nearest centroid\n",
    "        - Udpate centroid coordinates\n",
    "    '''\n",
    "    def __init__(self, k, max_iter=100, verbose=False, random_state=42):\n",
    "        self.k = k #TODO\n",
    "        self.verbose = verbose\n",
    "        self.rs = random_state #TODO\n",
    "        self.centroids = None\n",
    "        self.max_iter = max_iter #TODO\n",
    "        self.labels = np.array(range(self.k))\n",
    "        self.classes = None\n",
    "        self.inertia = None\n",
    "        if verbose:\n",
    "            print('*****  Initialization of Kmeans with {} clusters  *****'.format(self.k))\n",
    "            print('\\tmax_iter: \\t', self.max_iter)\n",
    "            print('\\tlabels: \\t', self.labels)\n",
    "            print('\\trandom state: \\t', self.rs)\n",
    "            print('\\tverbose: \\t', self.verbose)                                 \n",
    "            print('******************************************************')\n",
    "    \n",
    "    def fit(self, X):\n",
    "        '''\n",
    "        desc: This function trains kmeans on X with k clusters\n",
    "            --> At the end, a label will be assigned to each sample of X and be stored in classes attribute\n",
    "        '''\n",
    "        # init centroids\n",
    "        ranges = [] # cf. init_centroids function for more information\n",
    "        # TODO\n",
    "        for i in range(2):\n",
    "            min_feature = min(X[:, i])  #The minimum feature dimensions of a sample \n",
    "            max_feature = max(X[:, i])  #The maximum dimension of a feature sample\n",
    "            ranges.append(min_feature)\n",
    "            ranges.append(max_feature)\n",
    "        self.centroids = self.init_centroids(ranges)\n",
    "        \n",
    "        \n",
    "       \n",
    "        # until stopping criteria is reached ... : TODO\n",
    "        for i in range(self.max_iter):\n",
    "            # assign label to each sample : TODO\n",
    "            # (hint : use knn)\n",
    "            old_centroids = self.centroids\n",
    "            \n",
    "            distance = np.zeros((X.shape[0], self.k))\n",
    "            for k in range(self.k):\n",
    "                row_norm = norm(X - old_centroids[k, :], axis=1) #axis=1\n",
    "                distance[:, k] = np.square(row_norm)\n",
    "            \n",
    "            self.labels = np.argmin(distance, axis=1)\n",
    "            \n",
    "            current_clusters = self.labels # here are stored the current nearest cluster of each sample in X\n",
    "           \n",
    "            # update centroids coordinates \n",
    "            new_centers = [] # here will be stored the new centroids of previous clusters\n",
    "            # TODO\n",
    "            new_centers = np.zeros((self.k, X.shape[1]))\n",
    "        \n",
    "            for k in range(self.k):\n",
    "                new_centers[k, :] = np.mean(X[self.labels == k, :], axis=0)\n",
    "                \n",
    "            new_centers = np.array(new_centers)\n",
    "            \n",
    "            # looking for convergence\n",
    "            # facultative (end the loop before reaching max number of iterations if convergence)\n",
    "            \n",
    "            self.centroids = new_centers # updating old centroids with new ones \n",
    "            \n",
    "        self.classes = current_clusters # here are stored the nearest cluster of each sample in X\n",
    "        self.verbose = True\n",
    "        # computing inertia\n",
    "        self.ssd(X)\n",
    "        \n",
    "        if self.verbose:\n",
    "            print('Model trained in {} iterations...'.format(i+1))  \n",
    "        \n",
    "    def init_centroids(self, ranges):\n",
    "        '''\n",
    "        desc: Compute self.k random centroids defined within specified ranges\n",
    "        each row in ranges correspond to a feature\n",
    "        two columns in range (col1 : min value, col2 : max value)\n",
    "        '''\n",
    "        # Setting seed\n",
    "        np.random.seed(self.rs)\n",
    "        \n",
    "        # Computing k centroids\n",
    "        self.centroids = []\n",
    "        # TODO (hint: use np.random.uniform)\n",
    "        values = []\n",
    "    \n",
    "        for m in range(self.k):\n",
    "            for l in range(1):\n",
    "                values.append(np.random.uniform(ranges[l], ranges[l+1]))\n",
    "                values.append(np.random.uniform(ranges[l+2], ranges[l+3]))\n",
    "        values = np.array(values)\n",
    "        #print(values)\n",
    "        values = values.reshape(self.k,2)\n",
    "        self.centroids = values\n",
    "        return self.centroids\n",
    "    \n",
    "    def ssd(self,X):\n",
    "        '''\n",
    "        Compute sum of squared distances (inertia)\n",
    "        Used for elbow method\n",
    "        '''\n",
    "        res = 0\n",
    "        # TODO\n",
    "        distance = np.zeros(X.shape[0])\n",
    "        for k in range(self.k):\n",
    "            distance[self.labels==k] = norm(X[self.labels == k] - self.centroids[k], axis=1)\n",
    "        return np.sum(np.square(distance))\n",
    "        \n",
    "        \n",
    "        self.inertia = res\n",
    "        \n",
    "    def predict(self,X):\n",
    "        '''\n",
    "        Assign the nearest cluster to each sample of X\n",
    "        Kmeans has to be trained before using this function\n",
    "        '''\n",
    "        \n",
    "        predictions = []\n",
    "        old_centroids = self.centroids\n",
    "        distance = np.zeros((X.shape[0], self.k))\n",
    "        for k in range(self.k):\n",
    "            row_norm = norm(X - old_centroids[k, :], axis=1) #axis=1\n",
    "            distance[:, k] = np.square(row_norm)\n",
    "            \n",
    "        labels = np.argmin(distance, axis=1)\n",
    "            \n",
    "        predictions = labels # here are stored the current nearest cluster of each sample in X\n",
    "       # for i in X:\n",
    "        #    classification = clf.predict(unknown)\n",
    "          #  plt.scatter(unknown[0], unknown[1], marker=\"*\", color=colors[classification], s=150, linewidths=5)\n",
    "\n",
    "        #plt.show()\n",
    "       \n",
    "        # TODO\n",
    "        return predictions\n",
    "    \n"
   ]
  },
  {
   "cell_type": "markdown",
   "metadata": {},
   "source": [
    "## 1. Visualisation des données"
   ]
  },
  {
   "cell_type": "markdown",
   "metadata": {},
   "source": [
    "#### a) Charger la base de données (Customers_practice.csv)"
   ]
  },
  {
   "cell_type": "code",
   "execution_count": 43,
   "metadata": {},
   "outputs": [],
   "source": [
    "import pandas as pd\n",
    "df=pd.read_csv('Customers_practice.csv')"
   ]
  },
  {
   "cell_type": "markdown",
   "metadata": {},
   "source": [
    "#### b)  Afficher les 10 premières lignes du jeu de données (fonction head()). Déterminer le nombre d’exemples, ainsi que le nombre de features pour ce problème."
   ]
  },
  {
   "cell_type": "code",
   "execution_count": 44,
   "metadata": {},
   "outputs": [
    {
     "data": {
      "text/html": [
       "<div>\n",
       "<style scoped>\n",
       "    .dataframe tbody tr th:only-of-type {\n",
       "        vertical-align: middle;\n",
       "    }\n",
       "\n",
       "    .dataframe tbody tr th {\n",
       "        vertical-align: top;\n",
       "    }\n",
       "\n",
       "    .dataframe thead th {\n",
       "        text-align: right;\n",
       "    }\n",
       "</style>\n",
       "<table border=\"1\" class=\"dataframe\">\n",
       "  <thead>\n",
       "    <tr style=\"text-align: right;\">\n",
       "      <th></th>\n",
       "      <th>Annual_Income_(k$)</th>\n",
       "      <th>Spending_Score</th>\n",
       "    </tr>\n",
       "  </thead>\n",
       "  <tbody>\n",
       "    <tr>\n",
       "      <th>0</th>\n",
       "      <td>103</td>\n",
       "      <td>85</td>\n",
       "    </tr>\n",
       "    <tr>\n",
       "      <th>1</th>\n",
       "      <td>60</td>\n",
       "      <td>52</td>\n",
       "    </tr>\n",
       "    <tr>\n",
       "      <th>2</th>\n",
       "      <td>59</td>\n",
       "      <td>55</td>\n",
       "    </tr>\n",
       "    <tr>\n",
       "      <th>3</th>\n",
       "      <td>62</td>\n",
       "      <td>55</td>\n",
       "    </tr>\n",
       "    <tr>\n",
       "      <th>4</th>\n",
       "      <td>48</td>\n",
       "      <td>47</td>\n",
       "    </tr>\n",
       "    <tr>\n",
       "      <th>5</th>\n",
       "      <td>44</td>\n",
       "      <td>50</td>\n",
       "    </tr>\n",
       "    <tr>\n",
       "      <th>6</th>\n",
       "      <td>73</td>\n",
       "      <td>5</td>\n",
       "    </tr>\n",
       "    <tr>\n",
       "      <th>7</th>\n",
       "      <td>33</td>\n",
       "      <td>92</td>\n",
       "    </tr>\n",
       "    <tr>\n",
       "      <th>8</th>\n",
       "      <td>71</td>\n",
       "      <td>75</td>\n",
       "    </tr>\n",
       "    <tr>\n",
       "      <th>9</th>\n",
       "      <td>21</td>\n",
       "      <td>66</td>\n",
       "    </tr>\n",
       "  </tbody>\n",
       "</table>\n",
       "</div>"
      ],
      "text/plain": [
       "   Annual_Income_(k$)  Spending_Score\n",
       "0                 103              85\n",
       "1                  60              52\n",
       "2                  59              55\n",
       "3                  62              55\n",
       "4                  48              47\n",
       "5                  44              50\n",
       "6                  73               5\n",
       "7                  33              92\n",
       "8                  71              75\n",
       "9                  21              66"
      ]
     },
     "execution_count": 44,
     "metadata": {},
     "output_type": "execute_result"
    }
   ],
   "source": [
    "df.head(10)"
   ]
  },
  {
   "cell_type": "code",
   "execution_count": 45,
   "metadata": {},
   "outputs": [
    {
     "data": {
      "text/plain": [
       "(170, 2)"
      ]
     },
     "execution_count": 45,
     "metadata": {},
     "output_type": "execute_result"
    }
   ],
   "source": [
    "df.shape"
   ]
  },
  {
   "cell_type": "markdown",
   "metadata": {},
   "source": [
    "Réponse : Il y a 170 exemples et 2 features(Annual_Income_(k$) et Spending_Score)"
   ]
  },
  {
   "cell_type": "markdown",
   "metadata": {},
   "source": [
    "#### Afficher les données à l’aide d’un scatterplot (utiliser la librairie seaborn ou matplotlib)."
   ]
  },
  {
   "cell_type": "code",
   "execution_count": 46,
   "metadata": {},
   "outputs": [],
   "source": [
    "import matplotlib.pyplot as plt\n",
    "import seaborn as sns\n",
    "sns.set()\n"
   ]
  },
  {
   "cell_type": "code",
   "execution_count": 47,
   "metadata": {},
   "outputs": [
    {
     "data": {
      "image/png": "[encoded data removed]",
      "text/plain": [
       "<Figure size 432x288 with 1 Axes>"
      ]
     },
     "metadata": {},
     "output_type": "display_data"
    }
   ],
   "source": [
    "sns.scatterplot(x=\"Annual_Income_(k$)\", y=\"Spending_Score\", data=df,color=\"0\")\n",
    "plt.title('Clusters of customers')\n",
    "plt.xlabel(\"Annual Income (k$)\")\n",
    "plt.ylabel(\"Spending Score (1-100)\")\n",
    "plt.show()"
   ]
  },
  {
   "cell_type": "markdown",
   "metadata": {},
   "source": [
    "## 2. K-means algorithm"
   ]
  },
  {
   "cell_type": "code",
   "execution_count": 48,
   "metadata": {},
   "outputs": [],
   "source": [
    "km = MyKmeans(3)"
   ]
  },
  {
   "cell_type": "code",
   "execution_count": 49,
   "metadata": {},
   "outputs": [
    {
     "name": "stdout",
     "output_type": "stream",
     "text": [
      "Model trained in 100 iterations...\n"
     ]
    }
   ],
   "source": [
    "km.fit(df.values)"
   ]
  },
  {
   "cell_type": "code",
   "execution_count": 50,
   "metadata": {},
   "outputs": [
    {
     "data": {
      "image/png": "[encoded data removed]",
      "text/plain": [
       "<Figure size 432x288 with 1 Axes>"
      ]
     },
     "metadata": {},
     "output_type": "display_data"
    }
   ],
   "source": [
    "convertLabel = []\n",
    "for cT in km.labels:\n",
    "    if cT == 0:\n",
    "        convertLabel.append(\"Cluster 1\")\n",
    "    elif cT == 1:\n",
    "        convertLabel.append(\"Cluster 2\")\n",
    "    else:\n",
    "        convertLabel.append(\"Cluster 3\")\n",
    "        \n",
    "sns.scatterplot(x=\"Annual_Income_(k$)\", y=\"Spending_Score\", data=df, hue= convertLabel)\n",
    "sns.scatterplot(km.centroids[:,0] ,km.centroids[:,1], color='black', marker='x')\n",
    "plt.title('Clusters of customers')\n",
    "plt.xlabel(\"Annual Income (k$)\")\n",
    "plt.ylabel(\"Spending Score (1-100)\")\n",
    "plt.show()"
   ]
  },
  {
   "cell_type": "markdown",
   "metadata": {},
   "source": [
    "k=3 ne semble pas être la valeur appropriée comme nombre correct de clusters parce-que visuellement, on remarque que la variance intra de chaque classe est élevée notamment pour la classe rouge."
   ]
  },
  {
   "cell_type": "markdown",
   "metadata": {},
   "source": [
    "## 3. Trouver la valeur optimale de k"
   ]
  },
  {
   "cell_type": "code",
   "execution_count": 51,
   "metadata": {},
   "outputs": [
    {
     "name": "stdout",
     "output_type": "stream",
     "text": [
      "Model trained in 100 iterations...\n",
      "Model trained in 100 iterations...\n",
      "Model trained in 100 iterations...\n",
      "Model trained in 100 iterations...\n",
      "Model trained in 100 iterations...\n",
      "Model trained in 100 iterations...\n",
      "Model trained in 100 iterations...\n",
      "Model trained in 100 iterations...\n",
      "Model trained in 100 iterations...\n",
      "Model trained in 100 iterations...\n",
      "Model trained in 100 iterations...\n",
      "Model trained in 100 iterations...\n",
      "Model trained in 100 iterations...\n",
      "Model trained in 100 iterations...\n",
      "Model trained in 100 iterations...\n",
      "Model trained in 100 iterations...\n",
      "Model trained in 100 iterations...\n",
      "Model trained in 100 iterations...\n"
     ]
    },
    {
     "name": "stderr",
     "output_type": "stream",
     "text": [
      "C:\\Users\\Joseph\\anaconda3\\lib\\site-packages\\numpy\\core\\fromnumeric.py:3334: RuntimeWarning: Mean of empty slice.\n",
      "  return _methods._mean(a, axis=axis, dtype=dtype,\n",
      "C:\\Users\\Joseph\\anaconda3\\lib\\site-packages\\numpy\\core\\_methods.py:153: RuntimeWarning: invalid value encountered in true_divide\n",
      "  ret = um.true_divide(\n"
     ]
    },
    {
     "name": "stdout",
     "output_type": "stream",
     "text": [
      "Model trained in 100 iterations...\n",
      "Model trained in 100 iterations...\n"
     ]
    },
    {
     "data": {
      "image/png": "[encoded data removed]",
      "text/plain": [
       "<Figure size 432x288 with 1 Axes>"
      ]
     },
     "metadata": {},
     "output_type": "display_data"
    }
   ],
   "source": [
    "ssds=[]\n",
    "a = range(1,21)\n",
    "for i in range(1, 21):\n",
    "    kmElbow = MyKmeans(i)\n",
    "    kmElbow.fit(df.values)\n",
    "    ssds.append(kmElbow.ssd(df.values))\n",
    "\n",
    "sds=np.array(ssds) \n",
    "plt.plot(a, ssds, 'bx-')\n",
    "plt.xlabel('k')\n",
    "plt.ylabel('Sum_of_squared_distances')\n",
    "plt.title('Elbom Method For Optimal k')\n",
    "plt.show()"
   ]
  },
  {
   "cell_type": "markdown",
   "metadata": {},
   "source": [
    "On remarque que la meilleure valuer pour k semble être k = 5."
   ]
  },
  {
   "cell_type": "code",
   "execution_count": 52,
   "metadata": {},
   "outputs": [
    {
     "name": "stdout",
     "output_type": "stream",
     "text": [
      "Model trained in 100 iterations...\n"
     ]
    },
    {
     "data": {
      "image/png": "[encoded data removed]",
      "text/plain": [
       "<Figure size 432x288 with 1 Axes>"
      ]
     },
     "metadata": {},
     "output_type": "display_data"
    }
   ],
   "source": [
    "kmTrue = MyKmeans(5)\n",
    "kmTrue.fit(df.values)\n",
    "\n",
    "convertLabel = []\n",
    "for cT in kmTrue.labels:\n",
    "    if cT == 0:\n",
    "        convertLabel.append(\"Cluster 1\")\n",
    "    elif cT == 1:\n",
    "        convertLabel.append(\"Cluster 2\")\n",
    "    elif cT == 2:\n",
    "        convertLabel.append(\"Cluster 3\")\n",
    "    elif cT == 3:\n",
    "        convertLabel.append(\"Cluster 4\")\n",
    "    else:\n",
    "        convertLabel.append(\"Cluster 5\")\n",
    "\n",
    "sns.scatterplot(x=\"Annual_Income_(k$)\", y=\"Spending_Score\", data=df, hue= convertLabel)\n",
    "sns.scatterplot(kmTrue.centroids[:,0] ,kmTrue.centroids[:,1], color='black', marker='x')\n",
    "plt.xlabel(\"Annual Income (k$)\")\n",
    "plt.ylabel(\"Spending Score (1-100)\")\n",
    "plt.title('Clusters of customers')\n",
    "plt.show()"
   ]
  },
  {
   "cell_type": "markdown",
   "metadata": {},
   "source": [
    "Cluster 1 (bleu): clients ayant des revenus faibles et réalisant peu de dépenses \n",
    "Cluster 2 (vert): clients ayant des revenus élevés et réalisant peu de dépenses (il y a en a plus que le cluster 1)\n",
    "Cluster 3 (violet): clients ayant des revenus moyens et réalisant un nombre moyen de dépenses) \n",
    "Cluster 4 (rouge): clients ayant des revenus faibles mais réalisant un grand nombre de dépenses) \n",
    "Cluster 5 (orange): clients ayant des revenus élevés et réalisant un grand nombre de dépenses)"
   ]
  },
  {
   "cell_type": "markdown",
   "metadata": {},
   "source": [
    "## 4. Pas de partie 4"
   ]
  },
  {
   "cell_type": "markdown",
   "metadata": {},
   "source": [
    "## 5 Aller plus loin"
   ]
  },
  {
   "cell_type": "code",
   "execution_count": 53,
   "metadata": {},
   "outputs": [],
   "source": [
    "dftest = pd.read_csv('Customers_practice_test.csv') # Loading Customers_practice_test.csv"
   ]
  },
  {
   "cell_type": "code",
   "execution_count": 54,
   "metadata": {},
   "outputs": [
    {
     "data": {
      "text/html": [
       "<div>\n",
       "<style scoped>\n",
       "    .dataframe tbody tr th:only-of-type {\n",
       "        vertical-align: middle;\n",
       "    }\n",
       "\n",
       "    .dataframe tbody tr th {\n",
       "        vertical-align: top;\n",
       "    }\n",
       "\n",
       "    .dataframe thead th {\n",
       "        text-align: right;\n",
       "    }\n",
       "</style>\n",
       "<table border=\"1\" class=\"dataframe\">\n",
       "  <thead>\n",
       "    <tr style=\"text-align: right;\">\n",
       "      <th></th>\n",
       "      <th>Annual_Income_(k$)</th>\n",
       "      <th>Spending_Score</th>\n",
       "    </tr>\n",
       "  </thead>\n",
       "  <tbody>\n",
       "    <tr>\n",
       "      <th>0</th>\n",
       "      <td>62</td>\n",
       "      <td>42</td>\n",
       "    </tr>\n",
       "    <tr>\n",
       "      <th>1</th>\n",
       "      <td>19</td>\n",
       "      <td>3</td>\n",
       "    </tr>\n",
       "    <tr>\n",
       "      <th>2</th>\n",
       "      <td>48</td>\n",
       "      <td>50</td>\n",
       "    </tr>\n",
       "    <tr>\n",
       "      <th>3</th>\n",
       "      <td>87</td>\n",
       "      <td>75</td>\n",
       "    </tr>\n",
       "    <tr>\n",
       "      <th>4</th>\n",
       "      <td>88</td>\n",
       "      <td>69</td>\n",
       "    </tr>\n",
       "  </tbody>\n",
       "</table>\n",
       "</div>"
      ],
      "text/plain": [
       "   Annual_Income_(k$)  Spending_Score\n",
       "0                  62              42\n",
       "1                  19               3\n",
       "2                  48              50\n",
       "3                  87              75\n",
       "4                  88              69"
      ]
     },
     "execution_count": 54,
     "metadata": {},
     "output_type": "execute_result"
    }
   ],
   "source": [
    "dftest.head()"
   ]
  },
  {
   "cell_type": "code",
   "execution_count": 55,
   "metadata": {},
   "outputs": [
    {
     "data": {
      "text/plain": [
       "(30, 2)"
      ]
     },
     "execution_count": 55,
     "metadata": {},
     "output_type": "execute_result"
    }
   ],
   "source": [
    "dftest.shape"
   ]
  },
  {
   "cell_type": "code",
   "execution_count": 76,
   "metadata": {},
   "outputs": [
    {
     "name": "stdout",
     "output_type": "stream",
     "text": [
      "Model trained in 100 iterations...\n"
     ]
    }
   ],
   "source": [
    "kmPartie5 = MyKmeans(5)\n",
    "kmPartie5.fit(df.values)"
   ]
  },
  {
   "cell_type": "code",
   "execution_count": 77,
   "metadata": {},
   "outputs": [],
   "source": [
    "def save(predictions):\n",
    "    '''\n",
    "    predictions of kmeans\n",
    "    '''\n",
    "    column = ['prediction']\n",
    "    res_df = pd.DataFrame(predictions, columns=column)\n",
    "    print(res_df)\n",
    "    res_df.to_csv('resultats.csv', index=None)"
   ]
  },
  {
   "cell_type": "code",
   "execution_count": 78,
   "metadata": {},
   "outputs": [],
   "source": [
    "preds = kmPartie5.predict(dftest.values)"
   ]
  },
  {
   "cell_type": "code",
   "execution_count": 79,
   "metadata": {},
   "outputs": [
    {
     "name": "stdout",
     "output_type": "stream",
     "text": [
      "    prediction\n",
      "0            4\n",
      "1            2\n",
      "2            4\n",
      "3            0\n",
      "4            0\n",
      "5            4\n",
      "6            3\n",
      "7            3\n",
      "8            0\n",
      "9            0\n",
      "10           4\n",
      "11           4\n",
      "12           3\n",
      "13           4\n",
      "14           4\n",
      "15           0\n",
      "16           1\n",
      "17           2\n",
      "18           4\n",
      "19           1\n",
      "20           2\n",
      "21           4\n",
      "22           0\n",
      "23           1\n",
      "24           1\n",
      "25           4\n",
      "26           4\n",
      "27           2\n",
      "28           1\n",
      "29           4\n"
     ]
    }
   ],
   "source": [
    "save(preds) # execute the cell to generate resultats.csv"
   ]
  },
  {
   "cell_type": "code",
   "execution_count": 80,
   "metadata": {},
   "outputs": [],
   "source": [
    "h = .15\n",
    "d1 = dftest.iloc[:,0] #sepal length\n",
    "d2 = dftest.iloc[:,1] #sepal width\n",
    "x_min, x_max = d1.min() - 1, d1.max() + 1\n",
    "y_min, y_max = d2.min() - 1, d2.max() + 1\n",
    "\n",
    "x = np.arange(x_min, x_max, h)\n",
    "y = np.arange(y_min, y_max, h)"
   ]
  },
  {
   "cell_type": "code",
   "execution_count": 81,
   "metadata": {},
   "outputs": [],
   "source": [
    "xx, yy = np.meshgrid(x,y)"
   ]
  },
  {
   "cell_type": "code",
   "execution_count": 82,
   "metadata": {},
   "outputs": [
    {
     "data": {
      "text/plain": [
       "(0.0, 91.95)"
      ]
     },
     "execution_count": 82,
     "metadata": {},
     "output_type": "execute_result"
    },
    {
     "data": {
      "image/png": "[encoded data removed]",
      "text/plain": [
       "<Figure size 432x288 with 1 Axes>"
      ]
     },
     "metadata": {},
     "output_type": "display_data"
    }
   ],
   "source": [
    "cmap_light = ListedColormap(['#77F867', '#8D8D8D','#FFEE22'])\n",
    "plt.figure()\n",
    "Z = km.predict(np.c_[xx.ravel(), yy.ravel()])\n",
    "plt.pcolormesh(xx, yy, Z.reshape(xx.shape), cmap=cmap_light)\n",
    "sns.scatterplot(d1, d2, color=\"black\")\n",
    "plt.xlim(xx.min(), xx.max())\n",
    "plt.ylim(yy.min(), yy.max())"
   ]
  },
  {
   "cell_type": "code",
   "execution_count": null,
   "metadata": {},
   "outputs": [],
   "source": []
  },
  {
   "cell_type": "code",
   "execution_count": null,
   "metadata": {},
   "outputs": [],
   "source": []
  },
  {
   "cell_type": "code",
   "execution_count": null,
   "metadata": {},
   "outputs": [],
   "source": []
  },
  {
   "cell_type": "code",
   "execution_count": null,
   "metadata": {},
   "outputs": [],
   "source": []
  },
  {
   "cell_type": "code",
   "execution_count": null,
   "metadata": {},
   "outputs": [],
   "source": []
  }
 ],
 "metadata": {
  "kernelspec": {
   "display_name": "Python 3",
   "language": "python",
   "name": "python3"
  },
  "language_info": {
   "codemirror_mode": {
    "name": "ipython",
    "version": 3
   },
   "file_extension": ".py",
   "mimetype": "text/x-python",
   "name": "python",
   "nbconvert_exporter": "python",
   "pygments_lexer": "ipython3",
   "version": "3.8.3"
  }
 },
 "nbformat": 4,
 "nbformat_minor": 2
}
